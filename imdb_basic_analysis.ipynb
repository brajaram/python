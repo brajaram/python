{
 "cells": [
  {
   "cell_type": "code",
   "execution_count": 51,
   "metadata": {
    "collapsed": true
   },
   "outputs": [],
   "source": [
    "import csv\n",
    "import numpy as np\n",
    "from itertools import islice\n",
    "from collections import Counter"
   ]
  },
  {
   "cell_type": "code",
   "execution_count": 87,
   "metadata": {},
   "outputs": [],
   "source": [
    "movie_counter = Counter()\n",
    "movie_ratings = {}\n",
    "movie_votes = {}\n",
    "movie_year = {}\n",
    "f = open('imdb.csv', 'r')\n",
    "reader = csv.reader(f, delimiter='\\t')\n",
    "for row in islice(reader, 1, None):\n",
    "    movie_counter[row[1]] += 1\n",
    "    movie_year[row[0]] = row[1]\n",
    "    movie_ratings[row[0]] = float(row[2])\n",
    "    movie_votes[row[0]] = int(row[3])"
   ]
  },
  {
   "cell_type": "markdown",
   "metadata": {},
   "source": [
    "**Q1: What is the first and last year in this dataset? How many movies were released in each year during the whole time period?**"
   ]
  },
  {
   "cell_type": "code",
   "execution_count": 21,
   "metadata": {},
   "outputs": [
    {
     "name": "stdout",
     "output_type": "stream",
     "text": [
      "First Year: 1874\n",
      "Last Year: 2017\n"
     ]
    }
   ],
   "source": [
    "print('First Year: ' + min(movie_counter.keys()))\n",
    "print('Last Year: ' + max(movie_counter.keys()))"
   ]
  },
  {
   "cell_type": "code",
   "execution_count": 28,
   "metadata": {},
   "outputs": [],
   "source": [
    "#not executing this cell as it will print all the records\n",
    "print('year number of movies')\n",
    "print('---------------------')\n",
    "for year,no_of_movies in movie_counter.items():\n",
    "     print(year,no_of_movies)"
   ]
  },
  {
   "cell_type": "markdown",
   "metadata": {},
   "source": [
    "** Q2: What are the average ratings and average votes? **"
   ]
  },
  {
   "cell_type": "code",
   "execution_count": 64,
   "metadata": {},
   "outputs": [
    {
     "name": "stdout",
     "output_type": "stream",
     "text": [
      "Average ratings:\n",
      "----------------\n",
      "6.2856179862\n",
      "\n",
      "Average votes:\n",
      "--------------\n",
      "1634.4038228\n"
     ]
    }
   ],
   "source": [
    "print('Average ratings:')\n",
    "print('----------------')\n",
    "print(np.mean(list(movie_ratings.values())))\n",
    "print('\\nAverage votes:')\n",
    "print('--------------')\n",
    "print(np.mean(list(movie_votes.values())))"
   ]
  },
  {
   "cell_type": "markdown",
   "metadata": {},
   "source": [
    "** Q3: What are the 5 movies that have the highest ratings and highest votes, respectively? **"
   ]
  },
  {
   "cell_type": "code",
   "execution_count": 93,
   "metadata": {},
   "outputs": [
    {
     "name": "stdout",
     "output_type": "stream",
     "text": [
      "------------------------------\n",
      "5 movies with highest ratings\n",
      "------------------------------\n",
      "\n",
      "Movie Title - Rating - Year - Votes\n",
      "--------------------\n",
      "Adolfo Perez Esquivel: Rivers of Hope  -  9.9  -  2015  -  9\n",
      "The Red Shirt Diaries  -  9.8  -  2014  -  6\n",
      "Girls Loving Girls  -  9.8  -  1996  -  5\n",
      "High-Rise  -  9.8  -  2015  -  5\n",
      "Mari White Presents the Newsboys  -  9.7  -  2011  -  6\n",
      "\n",
      "\n",
      "-----------------------------\n",
      "5 movies with highest votes\n",
      "-----------------------------\n",
      "\n",
      "Movie Title - Votes - Year - Ratings\n",
      "-------------------\n",
      "The Shawshank Redemption  - 1511933  -  1994  -  9.3\n",
      "The Dark Knight  - 1487023  -  2008  -  9.0\n",
      "Inception  - 1285905  -  2010  -  8.8\n",
      "Fight Club  - 1189053  -  1999  -  8.9\n",
      "Pulp Fiction  - 1177471  -  1994  -  8.9\n"
     ]
    }
   ],
   "source": [
    "import operator\n",
    "\n",
    "sorted_movie_ratings = sorted(movie_ratings.items(), key=operator.itemgetter(1), reverse=True )[:5]\n",
    "print('------------------------------')\n",
    "print('5 movies with highest ratings')\n",
    "print('------------------------------')\n",
    "print('\\nMovie Title - Rating - Year - Votes')\n",
    "print('--------------------')\n",
    "for elem in sorted_movie_ratings:\n",
    "    print(elem[0],' - ',elem[1], ' - ', movie_year[elem[0]], ' - ', movie_votes[elem[0]])\n",
    "    \n",
    "\n",
    "sorted_movie_votes = sorted(movie_votes.items(), key=operator.itemgetter(1), reverse=True )[:5]\n",
    "print('\\n\\n-----------------------------')\n",
    "print('5 movies with highest votes')\n",
    "print('-----------------------------')\n",
    "print('\\nMovie Title - Votes - Year - Ratings')\n",
    "print('-------------------')\n",
    "for elem in sorted_movie_votes:\n",
    "    print(elem[0],' -',elem[1], ' - ', movie_year[elem[0]], ' - ', movie_ratings[elem[0]])"
   ]
  },
  {
   "cell_type": "code",
   "execution_count": null,
   "metadata": {
    "collapsed": true
   },
   "outputs": [],
   "source": []
  }
 ],
 "metadata": {
  "kernelspec": {
   "display_name": "Python 3",
   "language": "python",
   "name": "python3"
  },
  "language_info": {
   "codemirror_mode": {
    "name": "ipython",
    "version": 3
   },
   "file_extension": ".py",
   "mimetype": "text/x-python",
   "name": "python",
   "nbconvert_exporter": "python",
   "pygments_lexer": "ipython3",
   "version": "3.6.1"
  }
 },
 "nbformat": 4,
 "nbformat_minor": 2
}
